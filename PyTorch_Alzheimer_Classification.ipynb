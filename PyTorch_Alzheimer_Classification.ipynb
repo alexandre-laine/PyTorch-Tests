{
 "cells": [
  {
   "cell_type": "code",
   "execution_count": 1,
   "metadata": {},
   "outputs": [],
   "source": [
    "import os"
   ]
  },
  {
   "cell_type": "code",
   "execution_count": 2,
   "metadata": {},
   "outputs": [],
   "source": [
    "cwd = os.getcwd()\n",
    "dataset_folder = \"datasets\"\n",
    "target_dataset = \"alzheimer\""
   ]
  },
  {
   "cell_type": "code",
   "execution_count": 3,
   "metadata": {},
   "outputs": [],
   "source": [
    "dataset_path = os.path.join(cwd, dataset_folder,target_dataset)\n",
    "dataset_group = os.listdir(dataset_path)\n",
    "patient_group = os.listdir(os.path.join(dataset_path, dataset_group[1]))\n",
    "n_patient_group = len(patient_group)"
   ]
  },
  {
   "cell_type": "code",
   "execution_count": 4,
   "metadata": {},
   "outputs": [],
   "source": [
    "from PIL import Image\n",
    "import numpy as np"
   ]
  },
  {
   "cell_type": "code",
   "execution_count": 5,
   "metadata": {},
   "outputs": [
    {
     "data": {
      "text/plain": [
       "(['test', 'train'], ['AD', 'CONTROL', 'PD'])"
      ]
     },
     "execution_count": 5,
     "metadata": {},
     "output_type": "execute_result"
    }
   ],
   "source": [
    "dataset_group,patient_group"
   ]
  },
  {
   "cell_type": "code",
   "execution_count": 6,
   "metadata": {},
   "outputs": [],
   "source": [
    "from tqdm import tqdm"
   ]
  },
  {
   "cell_type": "code",
   "execution_count": 7,
   "metadata": {},
   "outputs": [],
   "source": [
    "def extract(dataset_g, patient_g):\n",
    "    \n",
    "    print(dataset_group[dataset_g], patient_group[patient_g])\n",
    "\n",
    "    filename = os.listdir(os.path.join(dataset_path,\n",
    "                                       dataset_group[dataset_g],\n",
    "                                       patient_group[patient_g]\n",
    "                                       ))\n",
    "    \n",
    "    n_filename = len(filename)\n",
    "\n",
    "    test_shape = np.array(Image.open(os.path.join(dataset_path,dataset_group[dataset_g],\n",
    "                                    patient_group[patient_g], filename[0]))).shape\n",
    "    \n",
    "    DATASET = np.zeros((n_filename, test_shape[0]*test_shape[-1]))\n",
    "\n",
    "    for f in tqdm(range(len(filename))):\n",
    "\n",
    "        image = np.array(Image.open(\n",
    "                                    os.path.join(\n",
    "                                                dataset_path,\n",
    "                                                dataset_group[dataset_g],\n",
    "                                                patient_group[patient_g],\n",
    "                                                filename[f]\n",
    "                                                )\n",
    "                                        ))\n",
    "\n",
    "        if np.shape(image.shape)[0] == 3:\n",
    "            image = image[:,:,0]\n",
    "            \n",
    "    DATASET[f,:] = image.reshape(test_shape[0]*test_shape[-1])\n",
    "    \n",
    "    return DATASET"
   ]
  },
  {
   "cell_type": "code",
   "execution_count": 8,
   "metadata": {},
   "outputs": [
    {
     "data": {
      "text/plain": [
       "(['test', 'train'], ['AD', 'CONTROL', 'PD'])"
      ]
     },
     "execution_count": 8,
     "metadata": {},
     "output_type": "execute_result"
    }
   ],
   "source": [
    "dataset_group,patient_group"
   ]
  },
  {
   "cell_type": "code",
   "execution_count": 9,
   "metadata": {},
   "outputs": [
    {
     "name": "stdout",
     "output_type": "stream",
     "text": [
      "train AD\n"
     ]
    },
    {
     "name": "stderr",
     "output_type": "stream",
     "text": [
      "  4%|▍         | 115/2561 [00:00<00:02, 1148.42it/s]"
     ]
    },
    {
     "name": "stderr",
     "output_type": "stream",
     "text": [
      "100%|██████████| 2561/2561 [00:02<00:00, 1133.92it/s]\n"
     ]
    },
    {
     "name": "stdout",
     "output_type": "stream",
     "text": [
      "(2561, 36608)\n",
      "train CONTROL\n"
     ]
    },
    {
     "name": "stderr",
     "output_type": "stream",
     "text": [
      "100%|██████████| 3010/3010 [00:02<00:00, 1129.15it/s]"
     ]
    },
    {
     "name": "stdout",
     "output_type": "stream",
     "text": [
      "(3010, 36608)\n"
     ]
    },
    {
     "name": "stderr",
     "output_type": "stream",
     "text": [
      "\n"
     ]
    }
   ],
   "source": [
    "train_AD = extract(dataset_g=1, patient_g=0)\n",
    "print(train_AD.shape)\n",
    "train_CTRL = extract(dataset_g=1, patient_g=1)\n",
    "print(train_CTRL.shape)"
   ]
  },
  {
   "cell_type": "code",
   "execution_count": 19,
   "metadata": {},
   "outputs": [
    {
     "data": {
      "text/plain": [
       "93753088"
      ]
     },
     "execution_count": 19,
     "metadata": {},
     "output_type": "execute_result"
    }
   ],
   "source": [
    "train_AD.shape[-1]*train_AD.shape[0]"
   ]
  },
  {
   "cell_type": "code",
   "execution_count": 10,
   "metadata": {},
   "outputs": [],
   "source": [
    "import pandas as pd"
   ]
  },
  {
   "cell_type": "code",
   "execution_count": 11,
   "metadata": {},
   "outputs": [],
   "source": [
    "DATASET_AD = pd.melt(pd.DataFrame(train_AD), var_name=\"voxel\", value_name=\"activity\")\n",
    "DATASET_AD = pd.concat([DATASET_AD, pd.DataFrame(np.zeros((DATASET_AD.shape[0])), columns=[\"patient\"])], axis=1)\n",
    "\n",
    "DATASET_CTRL = pd.melt(pd.DataFrame(train_CTRL), var_name=\"voxel\", value_name=\"activity\")\n",
    "DATASET_CTRL = pd.concat([DATASET_CTRL, pd.DataFrame(np.ones((DATASET_CTRL.shape[0])), columns=[\"patient\"])], axis=1)"
   ]
  },
  {
   "cell_type": "code",
   "execution_count": 12,
   "metadata": {},
   "outputs": [
    {
     "name": "stdout",
     "output_type": "stream",
     "text": [
      "<class 'pandas.core.frame.DataFrame'>\n",
      "RangeIndex: 110190080 entries, 0 to 110190079\n",
      "Data columns (total 3 columns):\n",
      " #   Column    Dtype  \n",
      "---  ------    -----  \n",
      " 0   voxel     int64  \n",
      " 1   activity  float64\n",
      " 2   patient   float64\n",
      "dtypes: float64(2), int64(1)\n",
      "memory usage: 2.5 GB\n"
     ]
    }
   ],
   "source": [
    "DATASET_CTRL.info()"
   ]
  },
  {
   "cell_type": "code",
   "execution_count": 13,
   "metadata": {},
   "outputs": [
    {
     "name": "stdout",
     "output_type": "stream",
     "text": [
      "voxel       0\n",
      "activity    0\n",
      "patient     0\n",
      "dtype: int64 330570240\n",
      "voxel       0\n",
      "activity    0\n",
      "patient     0\n",
      "dtype: int64 281259264\n"
     ]
    }
   ],
   "source": [
    "print(DATASET_CTRL.isnull().sum(), DATASET_CTRL.size)\n",
    "print(DATASET_AD.isnull().sum(), DATASET_AD.size)"
   ]
  },
  {
   "cell_type": "code",
   "execution_count": 14,
   "metadata": {},
   "outputs": [
    {
     "name": "stdout",
     "output_type": "stream",
     "text": [
      "<class 'pandas.core.frame.DataFrame'>\n",
      "Int64Index: 203943168 entries, 0 to 110190079\n",
      "Data columns (total 3 columns):\n",
      " #   Column    Dtype  \n",
      "---  ------    -----  \n",
      " 0   voxel     int64  \n",
      " 1   activity  float64\n",
      " 2   patient   float64\n",
      "dtypes: float64(2), int64(1)\n",
      "memory usage: 6.1 GB\n"
     ]
    }
   ],
   "source": [
    "DATASET = pd.concat([DATASET_AD,DATASET_CTRL])\n",
    "DATASET_AD, DATASET_CTRL = 0,0\n",
    "DATASET.info()"
   ]
  },
  {
   "cell_type": "code",
   "execution_count": 16,
   "metadata": {},
   "outputs": [
    {
     "data": {
      "text/plain": [
       "voxel       36608\n",
       "activity      256\n",
       "patient         2\n",
       "dtype: int64"
      ]
     },
     "execution_count": 16,
     "metadata": {},
     "output_type": "execute_result"
    }
   ],
   "source": [
    "DATASET.nunique()"
   ]
  },
  {
   "cell_type": "code",
   "execution_count": null,
   "metadata": {},
   "outputs": [],
   "source": []
  }
 ],
 "metadata": {
  "kernelspec": {
   "display_name": "Python 3",
   "language": "python",
   "name": "python3"
  },
  "language_info": {
   "codemirror_mode": {
    "name": "ipython",
    "version": 3
   },
   "file_extension": ".py",
   "mimetype": "text/x-python",
   "name": "python",
   "nbconvert_exporter": "python",
   "pygments_lexer": "ipython3",
   "version": "3.11.8"
  }
 },
 "nbformat": 4,
 "nbformat_minor": 2
}
