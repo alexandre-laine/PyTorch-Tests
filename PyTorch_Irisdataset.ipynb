{
 "cells": [
  {
   "cell_type": "code",
   "execution_count": 20,
   "metadata": {},
   "outputs": [
    {
     "data": {
      "text/plain": [
       "'\\n@utor : Alexandre\\nΔate : 2024-03-28\\n'"
      ]
     },
     "execution_count": 20,
     "metadata": {},
     "output_type": "execute_result"
    }
   ],
   "source": [
    "\"\"\"\n",
    "@utor : Alexandre\n",
    "Δate : 2024-03-28\n",
    "\"\"\""
   ]
  },
  {
   "cell_type": "markdown",
   "metadata": {},
   "source": [
    "# **Trying to make something fun with a new dataset**"
   ]
  },
  {
   "cell_type": "markdown",
   "metadata": {},
   "source": [
    "## Loading and preparation of the dataset"
   ]
  },
  {
   "cell_type": "code",
   "execution_count": 21,
   "metadata": {},
   "outputs": [],
   "source": [
    "from sklearn.metrics import balanced_accuracy_score\n",
    "from sklearn.datasets import load_iris\n",
    "from tqdm import tqdm\n",
    "import pandas as pd\n",
    "import numpy as np\n",
    "import torch"
   ]
  },
  {
   "cell_type": "code",
   "execution_count": 22,
   "metadata": {},
   "outputs": [],
   "source": [
    "dataset = load_iris()"
   ]
  },
  {
   "cell_type": "code",
   "execution_count": 23,
   "metadata": {},
   "outputs": [
    {
     "name": "stdout",
     "output_type": "stream",
     "text": [
      ".. _iris_dataset:\n",
      "\n",
      "Iris plants dataset\n",
      "--------------------\n",
      "\n",
      "**Data Set Characteristics:**\n",
      "\n",
      ":Number of Instances: 150 (50 in each of three classes)\n",
      ":Number of Attributes: 4 numeric, predictive attributes and the class\n",
      ":Attribute Information:\n",
      "    - sepal length in cm\n",
      "    - sepal width in cm\n",
      "    - petal length in cm\n",
      "    - petal width in cm\n",
      "    - class:\n",
      "            - Iris-Setosa\n",
      "            - Iris-Versicolour\n",
      "            - Iris-Virginica\n",
      "\n",
      ":Summary Statistics:\n",
      "\n",
      "============== ==== ==== ======= ===== ====================\n",
      "                Min  Max   Mean    SD   Class Correlation\n",
      "============== ==== ==== ======= ===== ====================\n",
      "sepal length:   4.3  7.9   5.84   0.83    0.7826\n",
      "sepal width:    2.0  4.4   3.05   0.43   -0.4194\n",
      "petal length:   1.0  6.9   3.76   1.76    0.9490  (high!)\n",
      "petal width:    0.1  2.5   1.20   0.76    0.9565  (high!)\n",
      "============== ==== ==== ======= ===== ====================\n",
      "\n",
      ":Missing Attribute Values: None\n",
      ":Class Distribution: 33.3% for each of 3 classes.\n",
      ":Creator: R.A. Fisher\n",
      ":Donor: Michael Marshall (MARSHALL%PLU@io.arc.nasa.gov)\n",
      ":Date: July, 1988\n",
      "\n",
      "The famous Iris database, first used by Sir R.A. Fisher. The dataset is taken\n",
      "from Fisher's paper. Note that it's the same as in R, but not as in the UCI\n",
      "Machine Learning Repository, which has two wrong data points.\n",
      "\n",
      "This is perhaps the best known database to be found in the\n",
      "pattern recognition literature.  Fisher's paper is a classic in the field and\n",
      "is referenced frequently to this day.  (See Duda & Hart, for example.)  The\n",
      "data set contains 3 classes of 50 instances each, where each class refers to a\n",
      "type of iris plant.  One class is linearly separable from the other 2; the\n",
      "latter are NOT linearly separable from each other.\n",
      "\n",
      ".. dropdown:: References\n",
      "\n",
      "  - Fisher, R.A. \"The use of multiple measurements in taxonomic problems\"\n",
      "    Annual Eugenics, 7, Part II, 179-188 (1936); also in \"Contributions to\n",
      "    Mathematical Statistics\" (John Wiley, NY, 1950).\n",
      "  - Duda, R.O., & Hart, P.E. (1973) Pattern Classification and Scene Analysis.\n",
      "    (Q327.D83) John Wiley & Sons.  ISBN 0-471-22361-1.  See page 218.\n",
      "  - Dasarathy, B.V. (1980) \"Nosing Around the Neighborhood: A New System\n",
      "    Structure and Classification Rule for Recognition in Partially Exposed\n",
      "    Environments\".  IEEE Transactions on Pattern Analysis and Machine\n",
      "    Intelligence, Vol. PAMI-2, No. 1, 67-71.\n",
      "  - Gates, G.W. (1972) \"The Reduced Nearest Neighbor Rule\".  IEEE Transactions\n",
      "    on Information Theory, May 1972, 431-433.\n",
      "  - See also: 1988 MLC Proceedings, 54-64.  Cheeseman et al\"s AUTOCLASS II\n",
      "    conceptual clustering system finds 3 classes in the data.\n",
      "  - Many, many more ...\n",
      "\n"
     ]
    }
   ],
   "source": [
    "print(dataset[\"DESCR\"])"
   ]
  },
  {
   "cell_type": "code",
   "execution_count": 24,
   "metadata": {},
   "outputs": [],
   "source": [
    "columns_name = dataset[\"feature_names\"]\n",
    "target_name = dataset[\"target_names\"]\n",
    "columns = [columns_name[i].replace(\" \",\"_\").split(\"_(\")[0] for i in range(len(columns_name))]"
   ]
  },
  {
   "cell_type": "code",
   "execution_count": 25,
   "metadata": {},
   "outputs": [],
   "source": [
    "Y = pd.DataFrame(dataset[\"target\"], columns=[\"target\"])\n",
    "x = pd.DataFrame(dataset[\"data\"], columns=columns)"
   ]
  },
  {
   "cell_type": "code",
   "execution_count": 26,
   "metadata": {},
   "outputs": [],
   "source": [
    "sepal_area = pd.DataFrame((x[\"sepal_length\"] * x[\"sepal_width\"]) / 2, columns=[\"sepal_area\"])\n",
    "petal_area = pd.DataFrame((x[\"petal_length\"] * x[\"petal_width\"]) / 2, columns=[\"petal_area\"])"
   ]
  },
  {
   "cell_type": "code",
   "execution_count": 27,
   "metadata": {},
   "outputs": [],
   "source": [
    "X = pd.concat(\n",
    "    [\n",
    "        x,\n",
    "        sepal_area,\n",
    "        petal_area\n",
    "    ], axis=1\n",
    ")"
   ]
  },
  {
   "cell_type": "code",
   "execution_count": 28,
   "metadata": {},
   "outputs": [],
   "source": [
    "from sklearn.model_selection import train_test_split\n",
    "from sklearn.preprocessing import StandardScaler"
   ]
  },
  {
   "cell_type": "code",
   "execution_count": 29,
   "metadata": {},
   "outputs": [],
   "source": [
    "X_train_, X_test_, Y_train_, Y_test_ = train_test_split(\n",
    "    X.to_numpy(),\n",
    "    Y.to_numpy()[:,0],\n",
    "    test_size=.2\n",
    "    )"
   ]
  },
  {
   "cell_type": "code",
   "execution_count": 30,
   "metadata": {},
   "outputs": [],
   "source": [
    "scaler = StandardScaler().fit(X_train_)\n",
    "X_train = scaler.transform(X_train_)\n",
    "X_test = scaler.transform(X_test_)\n",
    "Y_train = Y_train_\n",
    "Y_test = Y_test_"
   ]
  },
  {
   "cell_type": "markdown",
   "metadata": {},
   "source": [
    "## Model and training preparation"
   ]
  },
  {
   "cell_type": "code",
   "execution_count": 31,
   "metadata": {},
   "outputs": [],
   "source": [
    "from torch.utils.data import TensorDataset, DataLoader"
   ]
  },
  {
   "cell_type": "code",
   "execution_count": 32,
   "metadata": {},
   "outputs": [],
   "source": [
    "# model de classification\n",
    "class my_classifier(torch.nn.Module):\n",
    "    def __init__(self, N_feature, N_classe):\n",
    "        super(my_classifier, self).__init__()\n",
    "         \n",
    "        self.linear = torch.nn.Linear(N_feature, N_classe)\n",
    "        self.logsoftmax = torch.nn.LogSoftmax(dim=-1)\n",
    "\n",
    "    def forward(self, x):\n",
    "        \n",
    "        x_in = self.linear(x)\n",
    "        x_out = self.logsoftmax(x_in)\n",
    "\n",
    "        return x_out"
   ]
  },
  {
   "cell_type": "code",
   "execution_count": 33,
   "metadata": {},
   "outputs": [
    {
     "name": "stdout",
     "output_type": "stream",
     "text": [
      "device = 'cuda' !\n"
     ]
    }
   ],
   "source": [
    "# select the device support\n",
    "device = \"cuda\" if torch.cuda.is_available() else \"cpu\"\n",
    "if device == \"cuda\" : torch.cuda.empty_cache()\n",
    "print(f\"{device = } !\")"
   ]
  },
  {
   "cell_type": "code",
   "execution_count": 34,
   "metadata": {},
   "outputs": [],
   "source": [
    "# training fonction for the model\n",
    "def train_model(\n",
    "        num_epochs=300,\n",
    "        criterion=\"bce\",\n",
    "        optimizer=\"adam\",\n",
    "        batch_size=2**4,\n",
    "        lr=1e-3, # optmizer\n",
    "        betas=(0.9,0.999), # adam\n",
    "        alpha=0.99, # rmsprop\n",
    "        eps=1e-08, # rmsprop / adam\n",
    "        weight_decay=0, # rmsprop / adam\n",
    "        momentum=0, # rmsprop\n",
    "\n",
    "        \n",
    "        N_feature=X_train.shape[-1],\n",
    "        N_classe=np.unique(Y_train).shape[0],\n",
    "\n",
    "        X_train=X_train,\n",
    "        Y_train=Y_train,\n",
    "        X_test=X_test,\n",
    "        Y_test=Y_test,\n",
    "        device=device,\n",
    "\n",
    "        disable_tqdm=False,\n",
    "        verbose=False\n",
    "):\n",
    "    \n",
    "    # Initialisation\n",
    "    model = my_classifier(\n",
    "        N_feature=N_feature,\n",
    "        N_classe=N_classe\n",
    "        ).to(device)\n",
    "    \n",
    "    # select the loss function\n",
    "    if criterion == \"bce\":\n",
    "        criterion = torch.nn.BCELoss(reduction=\"mean\") \n",
    "    if criterion == \"nll\":\n",
    "        criterion = torch.nn.NLLLoss(reduction=\"mean\")\n",
    "\n",
    "    # gradient descent optimizer\n",
    "    if optimizer == \"adam\":\n",
    "        optimizer = torch.optim.Adam(\n",
    "            model.parameters(), \n",
    "            lr=lr,\n",
    "            betas=betas,\n",
    "            eps=eps,\n",
    "            weight_decay=weight_decay\n",
    "            )\n",
    "    if optimizer == \"rmsprop\":\n",
    "        optimizer = torch.optim.RMSprop(\n",
    "            model.parameters(), \n",
    "            lr=lr,\n",
    "            alpha=alpha,\n",
    "            eps=eps,\n",
    "            weight_decay=weight_decay,\n",
    "            momentum=momentum\n",
    "            )\n",
    "\n",
    "    # data preparation\n",
    "    X_train = torch.Tensor(X_train).to(device)\n",
    "    Y_train = torch.Tensor(Y_train).to(device)\n",
    "    X_test = torch.Tensor(X_test).to(device)\n",
    "    Y_test = torch.Tensor(Y_test).to(device)\n",
    "\n",
    "    loader = DataLoader(\n",
    "        TensorDataset(X_train,Y_train), \n",
    "        batch_size=batch_size, \n",
    "        shuffle=True\n",
    "    )\n",
    "\n",
    "    # result vector\n",
    "    results_loss_train = torch.zeros((num_epochs))\n",
    "    results_loss_test = torch.zeros((num_epochs))\n",
    "    results_accuracy = torch.zeros((num_epochs))\n",
    "\n",
    "    for epoch in tqdm(range(num_epochs), disable=disable_tqdm):\n",
    "        \n",
    "        loss_ = []\n",
    "\n",
    "        for X_, Y_ in loader:\n",
    "\n",
    "            X_, Y_ = X_.to(device), Y_.to(device)\n",
    "            model.train()\n",
    "            output = model(X_)\n",
    "            \n",
    "            loss = criterion(output, Y_.long())\n",
    "\n",
    "            optimizer.zero_grad()\n",
    "            loss.backward()\n",
    "            optimizer.step()\n",
    "            loss_.append(loss.item())\n",
    "\n",
    "        results_loss_train[epoch] = np.sum(loss_)\n",
    "\n",
    "        if verbose == True and (epoch % (num_epochs // 16) == 0):\n",
    "\n",
    "            print(f\"Iteration: {epoch} / {num_epochs} - Loss: {loss.item():.5e}\")\n",
    "\n",
    "        with torch.no_grad() :\n",
    "\n",
    "            Y_pred = model(X_test)\n",
    "            loss = criterion(Y_pred, Y_test.long())\n",
    "\n",
    "            results_loss_test[epoch] = loss.item()\n",
    "            results_accuracy[epoch] = balanced_accuracy_score(\n",
    "                y_true=Y_test.cpu().detach().round(),\n",
    "                y_pred=torch.argmax(Y_pred.cpu().detach(), axis=-1).round()\n",
    "            )\n",
    "    \n",
    "    return results_loss_train, results_loss_test, results_accuracy, model"
   ]
  },
  {
   "cell_type": "markdown",
   "metadata": {},
   "source": [
    "## Training"
   ]
  },
  {
   "cell_type": "code",
   "execution_count": 35,
   "metadata": {},
   "outputs": [
    {
     "name": "stderr",
     "output_type": "stream",
     "text": [
      "100%|██████████| 500/500 [00:09<00:00, 52.71it/s]\n"
     ]
    }
   ],
   "source": [
    "results_loss_train, results_loss_test, results_accuracy, model = train_model(\n",
    "    X_train=X_train,\n",
    "    X_test=X_test,\n",
    "    Y_train=Y_train,\n",
    "    Y_test=Y_test,\n",
    "    criterion=\"nll\",\n",
    "    optimizer=\"rmsprop\",\n",
    "    batch_size=2**3,\n",
    "    num_epochs=500\n",
    ")"
   ]
  },
  {
   "cell_type": "code",
   "execution_count": 36,
   "metadata": {},
   "outputs": [],
   "source": [
    "import matplotlib.pyplot as plt"
   ]
  },
  {
   "cell_type": "code",
   "execution_count": 37,
   "metadata": {},
   "outputs": [
    {
     "data": {
      "image/png": "[encoded data removed]",
      "text/plain": [
       "<Figure size 1000x500 with 3 Axes>"
      ]
     },
     "metadata": {},
     "output_type": "display_data"
    }
   ],
   "source": [
    "fig,ax = plt.subplots(\n",
    "    nrows=1,\n",
    "    ncols=2,\n",
    "    figsize=(10,5)\n",
    ")\n",
    "\n",
    "ax[0].plot(\n",
    "    range(500),\n",
    "    results_loss_test/results_loss_test.max(),\n",
    "    label=\"normalized test loss\"\n",
    ")\n",
    "\n",
    "ax[0].plot(\n",
    "    range(500),\n",
    "    results_loss_train/results_loss_train.max(),\n",
    "    label=\"normalized train loss\"\n",
    ")\n",
    "\n",
    "g = ax[1].imshow(\n",
    "    torch.softmax(model.linear.weight.cpu(), axis=0).detach().numpy().T,\n",
    "    aspect=\"auto\"\n",
    ")\n",
    "ax[1].set_yticks(range(X.keys().shape[0]), X.keys(), rotation=45)\n",
    "ax[1].set_xticks(range(np.unique(Y).shape[0]), target_name, rotation=45)\n",
    "fig.colorbar(g, ax=ax[1])\n",
    "\n",
    "ax[0].legend()\n",
    "plt.tight_layout()\n",
    "plt.show()"
   ]
  },
  {
   "cell_type": "code",
   "execution_count": 38,
   "metadata": {},
   "outputs": [
    {
     "name": "stdout",
     "output_type": "stream",
     "text": [
      "balanced accuracy = 93.63635778427124 %\n"
     ]
    }
   ],
   "source": [
    "print(f\"balanced accuracy = {results_accuracy[-5:].mean().item()*100} %\")"
   ]
  }
 ],
 "metadata": {
  "kernelspec": {
   "display_name": "Python 3",
   "language": "python",
   "name": "python3"
  },
  "language_info": {
   "codemirror_mode": {
    "name": "ipython",
    "version": 3
   },
   "file_extension": ".py",
   "mimetype": "text/x-python",
   "name": "python",
   "nbconvert_exporter": "python",
   "pygments_lexer": "ipython3",
   "version": "3.11.9"
  }
 },
 "nbformat": 4,
 "nbformat_minor": 2
}
